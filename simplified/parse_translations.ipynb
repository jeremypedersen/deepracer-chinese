{
 "cells": [
  {
   "cell_type": "code",
   "execution_count": 1,
   "id": "42b12ac4",
   "metadata": {},
   "outputs": [],
   "source": [
    "# Script to load raw translation strings from Excel, then generate a TamperMonkey script\n",
    "# to do find-and-replace against the AWS DeepRacer console\n",
    "import openpyxl\n",
    "\n",
    "wb = openpyxl.load_workbook(filename = 'translations.xlsx')\n",
    "ws = wb.active"
   ]
  },
  {
   "cell_type": "code",
   "execution_count": 2,
   "id": "335bc390",
   "metadata": {},
   "outputs": [],
   "source": [
    "# Tampermonkey script (head)\n",
    "head = '''// ==UserScript==\n",
    "// @name         SimplifiedChineseDeepRacer\n",
    "// @namespace    SimplifiedChineseDeepRacer\n",
    "// @version      1.0.2\n",
    "// @description  Translates DeepRacer console into Simplified Chinese\n",
    "// @author       jdaped\n",
    "// @match        https://*.console.aws.amazon.com/deepracer/*\n",
    "// @updateURL    https://jeremypedersen.com/resources/tampermonkey/SimplifiedChineseDeepRacer.user.js\n",
    "// @downloadURL  https://jeremypedersen.com/resources/tampermonkey/SimplifiedChineseDeepRacer.user.js\n",
    "// ==/UserScript==\n",
    "\n",
    "// This timeout is a \"hack\" to wait for the page to load\n",
    "// TODO: Find a more elegant way to wait for page load\n",
    "setTimeout(function () {\n",
    "\n",
    "    var replaceArray = ['''"
   ]
  },
  {
   "cell_type": "code",
   "execution_count": 3,
   "id": "b623e6ae",
   "metadata": {},
   "outputs": [],
   "source": [
    "# Tampermonkey script (tail)\n",
    "tail = '''    ];\n",
    "\n",
    "    var numTerms = replaceArray.length;\n",
    "    var txtWalker = document.createTreeWalker(\n",
    "        document.body,\n",
    "        NodeFilter.SHOW_TEXT,\n",
    "        {\n",
    "            acceptNode: function (node) {\n",
    "                //-- Skip whitespace-only nodes\n",
    "                if (node.nodeValue.trim()) {\n",
    "                    return NodeFilter.FILTER_ACCEPT;\n",
    "                }\n",
    "\n",
    "                return NodeFilter.FILTER_SKIP;\n",
    "            }\n",
    "        },\n",
    "        false\n",
    "    );\n",
    "    var txtNode = null;\n",
    "\n",
    "    while (txtNode = txtWalker.nextNode()) {\n",
    "        var oldTxt = txtNode.nodeValue;\n",
    "\n",
    "        for (var J = 0; J < numTerms; J++) {\n",
    "            oldTxt = oldTxt.replace(replaceArray[J][0], replaceArray[J][1]);\n",
    "        }\n",
    "        txtNode.nodeValue = oldTxt;\n",
    "    }\n",
    "\n",
    "}, 3000);\n",
    "\n",
    "'''"
   ]
  },
  {
   "cell_type": "code",
   "execution_count": 4,
   "id": "27bac174",
   "metadata": {},
   "outputs": [
    {
     "name": "stdout",
     "output_type": "stream",
     "text": [
      "Done!\n"
     ]
    }
   ],
   "source": [
    "# Sort and convert into a format Tampermonkey can use\n",
    "# We assume the following format\n",
    "# Col A   | Col B   | Col C\n",
    "# English | Chinese | Console URL\n",
    "\n",
    "# Formatted output array\n",
    "# (Assume English is in Column B, Chinese in C)\n",
    "output = []\n",
    "\n",
    "for i in range(2, ws.max_row + 1):\n",
    "    try:\n",
    "        english = ws['B' + str(i)].value.strip()    \n",
    "    except:\n",
    "        continue # Ignore empty cells\n",
    "        \n",
    "    try:\n",
    "        chinese = ws['C' + str(i)].value.strip()\n",
    "    except: \n",
    "        continue # Ignore empty cells\n",
    "    \n",
    "    # We add the length of the English content to use as a sort key later\n",
    "    output.append(\"[/{}/gi, '{}']\".format(english, chinese))\n",
    "\n",
    "# Sort all the terms in the output array by length (longest to shortest)\n",
    "output.sort(key=lambda x: len(x), reverse=True)\n",
    "\n",
    "# Open up a file to write our Tampermonkey script to\n",
    "\n",
    "\n",
    "# Open up a file and dump the raw array content in\n",
    "f = open('SimplifiedChineseDeepRacer.user.js', 'w')\n",
    "\n",
    "# Write in header\n",
    "f.write(head + '\\n')\n",
    "\n",
    "# Write array content\n",
    "dupes = []\n",
    "array_len=len(output)\n",
    "for i in range(0,array_len):\n",
    "    \n",
    "    # (and while we are at it, check for + report duplicates)\n",
    "    if output[i] in dupes:\n",
    "        print('Duplicate string: {}'.format(output[i]))\n",
    "    else:\n",
    "        dupes.append(output[i])\n",
    "    \n",
    "    if i != array_len-1:\n",
    "        f.write('\\t'*2 + output[i] + ',\\n')\n",
    "    else:\n",
    "        f.write('\\t'*2 + output[i]) \n",
    "        \n",
    "# Write footer and close file\n",
    "f.write('\\n' + tail + '\\n')\n",
    "f.close()\n",
    "\n",
    "print(\"Done!\")"
   ]
  },
  {
   "cell_type": "code",
   "execution_count": null,
   "id": "d507467f",
   "metadata": {},
   "outputs": [],
   "source": []
  }
 ],
 "metadata": {
  "kernelspec": {
   "display_name": "Python 3 (ipykernel)",
   "language": "python",
   "name": "python3"
  },
  "language_info": {
   "codemirror_mode": {
    "name": "ipython",
    "version": 3
   },
   "file_extension": ".py",
   "mimetype": "text/x-python",
   "name": "python",
   "nbconvert_exporter": "python",
   "pygments_lexer": "ipython3",
   "version": "3.9.13"
  }
 },
 "nbformat": 4,
 "nbformat_minor": 5
}
